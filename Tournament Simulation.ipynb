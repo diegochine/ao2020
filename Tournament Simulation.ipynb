{
 "cells": [
  {
   "cell_type": "code",
   "execution_count": 1,
   "metadata": {},
   "outputs": [],
   "source": [
    "# libraries\n",
    "import numpy as np\n",
    "import pandas as pd\n",
    "from sklearn.tree import DecisionTreeClassifier\n",
    "from sklearn.ensemble import BaggingClassifier\n",
    "from sklearn.metrics import accuracy_score\n",
    "# our modules\n",
    "from preprocessing import *"
   ]
  },
  {
   "cell_type": "code",
   "execution_count": 2,
   "metadata": {},
   "outputs": [
    {
     "data": {
      "text/plain": [
       "{'Bedene A.': {},\n",
       " 'Tsonga J.W.': {},\n",
       " 'Kukushkin M.': {},\n",
       " 'Jaziri M.': {},\n",
       " 'Kecmanovic M.': {},\n",
       " 'Herbert P.H.': {},\n",
       " 'Edmund K.': {},\n",
       " 'Sandgren T.': {},\n",
       " 'Rublev A.': {},\n",
       " 'Barrere G.': {},\n",
       " 'Tiafoe F.': {},\n",
       " 'Andujar P.': {},\n",
       " 'Moutet C.': {},\n",
       " 'Cecchinato M.': {},\n",
       " 'Thompson J.': {},\n",
       " 'Djere L.': {},\n",
       " 'Fucsovics M.': {},\n",
       " 'Sonego L.': {},\n",
       " 'Ymer M.': {},\n",
       " 'Bublik A.': {},\n",
       " 'Verdasco F.': {},\n",
       " 'Krajinovic F.': {},\n",
       " 'Ilkel C.': {},\n",
       " 'Berankis R.': {},\n",
       " 'Chardy J.': {},\n",
       " 'Mannarino A.': {},\n",
       " 'Raonic M.': {},\n",
       " 'Wawrinka S.': {}}"
      ]
     },
     "execution_count": 2,
     "metadata": {},
     "output_type": "execute_result"
    }
   ],
   "source": [
    "torneo = pd.read_csv('data/2020.csv', \n",
    "                     encoding='utf-8-sig', \n",
    "                     dtype=DATA_TYPES,\n",
    "                     parse_dates=['Date', 'WBD', 'LBD'])\n",
    "players = {k : {} for k in set(torneo['Winner']).union(set(torneo['Loser'])) }\n",
    "players"
   ]
  },
  {
   "cell_type": "code",
   "execution_count": null,
   "metadata": {},
   "outputs": [],
   "source": [
    "features_to_drop = ['Best of', 'Court','Surface']\n",
    "X, Y = preprocess_data(2011, 2019, features_to_drop)"
   ]
  },
  {
   "cell_type": "code",
   "execution_count": null,
   "metadata": {},
   "outputs": [],
   "source": [
    "# Build the model\n",
    "rf = RandomForestClassifier(n_estimators=250,\n",
    "                            bootstrap=True,\n",
    "                            criterion='entropy',\n",
    "                            max_features='log2',\n",
    "                            max_depth=15,\n",
    "                            n_jobs=-1)\n",
    "rf.fit(X_train, Y_train)"
   ]
  },
  {
   "cell_type": "code",
   "execution_count": null,
   "metadata": {},
   "outputs": [],
   "source": [
    "def simulation(model,\n",
    "               atp = 1, \n",
    "               features_to_drop=[], \n",
    "               missing_values=\"drop\", \n",
    "               drop_first=False):\n",
    "    \n",
    "    tournament = pd.read_csv(\"data/\" + str(2020) + \".csv\", encoding='utf-8-sig', dtype=DATA_TYPES)\n",
    "    tournament = tournament[tournament['ATP'] == atp]\n",
    "    # TODO filtrare per atp e round(primo)\n",
    "    \n",
    "    tournament_to_test = unify_data(tournament, features_to_drop, 'drop', drop_first)\n",
    "    \n",
    "    prediction = model.predict(tournament_to_test[tournament_to_test['Round'] == 0])\n",
    "    accuracy = round(accuracy_score(y_true=np.ones(len(prediction), dtype=int), y_pred=prediction), 3)\n",
    "    print(\"Accuracy: \", accuracy)\n",
    "    \n",
    "    firstR = tournament[tournament['Round'] == '1st Round']\n",
    "    i = 0\n",
    "    for j, match in firstR.iterrows():\n",
    "        print('P1: ' + match['Winner'], 'P2: '+ match['Loser'], 'Wins:', prediction[i])\n",
    "        i+=1\n",
    "\n",
    "    #print(prediction)\n",
    "    \n",
    "    return tournament_to_test, X, Y\n",
    "    "
   ]
  },
  {
   "cell_type": "code",
   "execution_count": null,
   "metadata": {
    "scrolled": false
   },
   "outputs": [],
   "source": [
    "T, X, Y = simulation(rf, 1, features_to_drop)"
   ]
  },
  {
   "cell_type": "code",
   "execution_count": null,
   "metadata": {},
   "outputs": [],
   "source": [
    "#print(T.iloc[0],T.iloc[4], T.iloc[7], T.iloc[8])"
   ]
  },
  {
   "cell_type": "markdown",
   "metadata": {},
   "source": [
    "Notare che il modello sbaglia la predizione quando anche le scommesse(Max e Avg) sbagliano(era più quotata la vittoria del giocatore che di fatto ha perso)\n",
    "TODO: \n",
    "    - fare un decisore stupido basato sulle scommesse\n",
    "    - provare a tenere B365, nel caso droppare Avg e Max\n",
    "    \n",
    "## Preparazione per Australian Open 2020\n",
    "Scraping dei giocatori del primo round"
   ]
  },
  {
   "cell_type": "code",
   "execution_count": null,
   "metadata": {},
   "outputs": [],
   "source": [
    "from selenium import webdriver\n",
    "from selenium.webdriver.common.keys import Keys\n",
    "from time import sleep\n",
    "from preprocessing import uniformName"
   ]
  },
  {
   "cell_type": "code",
   "execution_count": null,
   "metadata": {},
   "outputs": [],
   "source": [
    "columns = {\n",
    "    'Series': object,\n",
    "    'Court': object,\n",
    "    'Surface': object,\n",
    "    'Round': object,\n",
    "    'Best of': int,\n",
    "    'Winner': object,\n",
    "    'Loser': object,\n",
    "    'WRank': float,\n",
    "    'LRank': float,\n",
    "    'WPts': float,\n",
    "    'LPts': float,\n",
    "    'WElo': float,\n",
    "    'WSurfElo': float,\n",
    "    'WHand': object,\n",
    "    'WBHand': float,\n",
    "    'LElo': float,\n",
    "    'LSurfElo': float,\n",
    "    'LHand': object,\n",
    "    'LBHand': float,\n",
    "    'WEloCalc': float,\n",
    "    'LEloCalc': float,\n",
    "    'ProbaElo': float}\n"
   ]
  },
  {
   "cell_type": "code",
   "execution_count": null,
   "metadata": {},
   "outputs": [],
   "source": [
    "driver = webdriver.Chrome()\n",
    "driver.get('https://ausopen.com/draws#!mens-singles')\n",
    "sleep(5)\n",
    "firstRound = driver.find_element_by_class_name('columm-1')\n",
    "matches = firstRound.find_elements_by_class_name('match-teams')\n",
    "i = 1\n",
    "for m in matches:\n",
    "    print('Match ', i)\n",
    "    players = m.find_elements_by_class_name('team-detail__players')\n",
    "    for player in players:\n",
    "        try:\n",
    "            p = player.find_element_by_class_name('player-full-name').get_attribute('innerHTML')\n",
    "        except Exception:\n",
    "            p = 'Qualifier'\n",
    "            \n",
    "        print(p)\n",
    "    i+=1"
   ]
  },
  {
   "cell_type": "code",
   "execution_count": null,
   "metadata": {},
   "outputs": [],
   "source": []
  }
 ],
 "metadata": {
  "kernelspec": {
   "display_name": "Python 3",
   "language": "python",
   "name": "python3"
  },
  "language_info": {
   "codemirror_mode": {
    "name": "ipython",
    "version": 3
   },
   "file_extension": ".py",
   "mimetype": "text/x-python",
   "name": "python",
   "nbconvert_exporter": "python",
   "pygments_lexer": "ipython3",
   "version": "3.6.9"
  },
  "latex_envs": {
   "LaTeX_envs_menu_present": true,
   "autoclose": false,
   "autocomplete": true,
   "bibliofile": "biblio.bib",
   "cite_by": "apalike",
   "current_citInitial": 1,
   "eqLabelWithNumbers": true,
   "eqNumInitial": 1,
   "hotkeys": {
    "equation": "Ctrl-E",
    "itemize": "Ctrl-I"
   },
   "labels_anchors": false,
   "latex_user_defs": false,
   "report_style_numbering": false,
   "user_envs_cfg": false
  }
 },
 "nbformat": 4,
 "nbformat_minor": 2
}
